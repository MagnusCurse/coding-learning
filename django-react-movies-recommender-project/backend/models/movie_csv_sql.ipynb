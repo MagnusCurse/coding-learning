{
 "cells": [
  {
   "cell_type": "code",
   "execution_count": null,
   "metadata": {},
   "outputs": [],
   "source": [
    "from pyspark.sql import SparkSession\n",
    "\n",
    "# stop any existing Spark session, if Spark is already running, creating a new session might fail ***\n",
    "try:\n",
    "    spark.stop()\n",
    "except Exception:\n",
    "    pass\n",
    "\n",
    "# create session with adjusted memory settings based on your cluster\n",
    "# .config(\"spark.local.dir\", r\"E:\\Apache Spark\\spark-temp\"): change the spark local dir, as the c disk memory is not enough, may cause Py4JJavaError exception ***\n",
    "spark = SparkSession.builder.appName(\"MovieCSVSQL\") \\\n",
    "    .config(\"spark.executor.memory\", \"16g\") \\\n",
    "    .config(\"spark.driver.memory\", \"8g\") \\\n",
    "    .config(\"spark.local.dir\", r\"E:\\Apache Spark\\spark-temp\") \\\n",
    "    .getOrCreate()"
   ]
  },
  {
   "cell_type": "code",
   "execution_count": null,
   "metadata": {},
   "outputs": [],
   "source": [
    "movies = spark.read \\\n",
    "    .format(\"csv\") \\\n",
    "    .option(\"sep\", \",\") \\\n",
    "    .option(\"header\", \"true\") \\\n",
    "    .option(\"encoding\", \"utf-8\") \\\n",
    "    .option(\"mode\", \"DROPMALFORMED\") \\\n",
    "    .load(\"../data/MovieLens 20M Dataset/movie.csv\")"
   ]
  },
  {
   "cell_type": "code",
   "execution_count": null,
   "metadata": {},
   "outputs": [],
   "source": [
    "movies = movies.withColumnRenamed('movieId', 'movie_id')"
   ]
  },
  {
   "cell_type": "code",
   "execution_count": null,
   "metadata": {},
   "outputs": [],
   "source": [
    "movies.show()"
   ]
  },
  {
   "cell_type": "code",
   "execution_count": null,
   "metadata": {},
   "outputs": [],
   "source": [
    "# Define MySQL connection properties\n",
    "jdbc_url = \"jdbc:mysql://your_host:3306/your_database\"\n",
    "connection_properties = {\n",
    "    \"user\": \"root\",\n",
    "    \"password\": \"137162\",\n",
    "    \"driver\": \"com.mysql.cj.jdbc.Driver\"  # Make sure to use the correct driver for your MySQL version\n",
    "}\n",
    "\n",
    "# Write the DataFrame to MySQL (mode can be 'append' or 'overwrite')\n",
    "movies.write.jdbc(url=jdbc_url, table=\"your_table\", mode=\"append\", properties=connection_properties)\n"
   ]
  }
 ],
 "metadata": {
  "language_info": {
   "name": "python"
  }
 },
 "nbformat": 4,
 "nbformat_minor": 2
}
