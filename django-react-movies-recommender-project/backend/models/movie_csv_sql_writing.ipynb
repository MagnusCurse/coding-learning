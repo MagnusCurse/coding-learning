{
 "cells": [
  {
   "cell_type": "code",
   "execution_count": null,
   "metadata": {},
   "outputs": [],
   "source": [
    "from pyspark.sql import SparkSession\n",
    "\n",
    "# stop any existing Spark session, if Spark is already running, creating a new session might fail ***\n",
    "try:\n",
    "    spark.stop()\n",
    "except Exception:\n",
    "    pass\n",
    "\n",
    "# create session with adjusted memory settings based on your cluster\n",
    "# .config(\"spark.local.dir\", r\"E:\\Apache Spark\\spark-temp\"): change the spark local dir, as the c disk memory is not enough, may cause Py4JJavaError exception ***\n",
    "spark = SparkSession.builder.appName(\"MovieCSVSQL\") \\\n",
    "    .config(\"spark.executor.memory\", \"32g\") \\\n",
    "    .config(\"spark.driver.memory\", \"16g\") \\\n",
    "    .config(\"spark.local.dir\", r\"E:\\Apache Spark\\spark-temp\") \\\n",
    "    .config(\"spark.jars\", r\"D:\\MySQL\\MySQL ConnectorJ\\mysql-connector-j-8.4.0\\mysql-connector-j-8.4.0\\mysql-connector-j-8.4.0.jar\") \\\n",
    "    .getOrCreate()\n",
    "# *** why in the other .ipynb file I can do this, why not here????????, and I change the place, it work again, maybe I should start it all over next time"
   ]
  },
  {
   "cell_type": "code",
   "execution_count": 29,
   "metadata": {},
   "outputs": [
    {
     "data": {
      "text/html": [
       "\n",
       "            <div>\n",
       "                <p><b>SparkSession - in-memory</b></p>\n",
       "                \n",
       "        <div>\n",
       "            <p><b>SparkContext</b></p>\n",
       "\n",
       "            <p><a href=\"http://DESKTOP-UGERBR3:4043\">Spark UI</a></p>\n",
       "\n",
       "            <dl>\n",
       "              <dt>Version</dt>\n",
       "                <dd><code>v3.5.3</code></dd>\n",
       "              <dt>Master</dt>\n",
       "                <dd><code>local[*]</code></dd>\n",
       "              <dt>AppName</dt>\n",
       "                <dd><code>MovieCSVSQL</code></dd>\n",
       "            </dl>\n",
       "        </div>\n",
       "        \n",
       "            </div>\n",
       "        "
      ],
      "text/plain": [
       "<pyspark.sql.session.SparkSession at 0x1f7684887d0>"
      ]
     },
     "execution_count": 29,
     "metadata": {},
     "output_type": "execute_result"
    }
   ],
   "source": [
    "spark"
   ]
  },
  {
   "cell_type": "markdown",
   "metadata": {},
   "source": [
    "### Store Movie Data in MySQL"
   ]
  },
  {
   "cell_type": "code",
   "execution_count": 30,
   "metadata": {},
   "outputs": [],
   "source": [
    "movies = spark.read \\\n",
    "    .format(\"csv\") \\\n",
    "    .option(\"sep\", \",\") \\\n",
    "    .option(\"header\", \"true\") \\\n",
    "    .option(\"encoding\", \"utf-8\") \\\n",
    "    .option(\"mode\", \"DROPMALFORMED\") \\\n",
    "    .load(\"../data/MovieLens 20M Dataset/movie.csv\")"
   ]
  },
  {
   "cell_type": "code",
   "execution_count": 31,
   "metadata": {},
   "outputs": [],
   "source": [
    "movies = movies.withColumnRenamed('movieId', 'movie_id')"
   ]
  },
  {
   "cell_type": "code",
   "execution_count": 32,
   "metadata": {},
   "outputs": [
    {
     "name": "stdout",
     "output_type": "stream",
     "text": [
      "+--------+--------------------+--------------------+\n",
      "|movie_id|               title|              genres|\n",
      "+--------+--------------------+--------------------+\n",
      "|       1|    Toy Story (1995)|Adventure|Animati...|\n",
      "|       2|      Jumanji (1995)|Adventure|Childre...|\n",
      "|       3|Grumpier Old Men ...|      Comedy|Romance|\n",
      "|       4|Waiting to Exhale...|Comedy|Drama|Romance|\n",
      "|       5|Father of the Bri...|              Comedy|\n",
      "|       6|         Heat (1995)|Action|Crime|Thri...|\n",
      "|       7|      Sabrina (1995)|      Comedy|Romance|\n",
      "|       8| Tom and Huck (1995)|  Adventure|Children|\n",
      "|       9| Sudden Death (1995)|              Action|\n",
      "|      10|    GoldenEye (1995)|Action|Adventure|...|\n",
      "|      11|American Presiden...|Comedy|Drama|Romance|\n",
      "|      12|Dracula: Dead and...|       Comedy|Horror|\n",
      "|      13|        Balto (1995)|Adventure|Animati...|\n",
      "|      14|        Nixon (1995)|               Drama|\n",
      "|      15|Cutthroat Island ...|Action|Adventure|...|\n",
      "|      16|       Casino (1995)|         Crime|Drama|\n",
      "|      17|Sense and Sensibi...|       Drama|Romance|\n",
      "|      18|   Four Rooms (1995)|              Comedy|\n",
      "|      19|Ace Ventura: When...|              Comedy|\n",
      "|      20|  Money Train (1995)|Action|Comedy|Cri...|\n",
      "+--------+--------------------+--------------------+\n",
      "only showing top 20 rows\n",
      "\n"
     ]
    }
   ],
   "source": [
    "movies.show()"
   ]
  },
  {
   "cell_type": "code",
   "execution_count": 33,
   "metadata": {},
   "outputs": [],
   "source": [
    "# Write to MySQL\n",
    "(movies.write\n",
    "    .format(\"jdbc\")\n",
    "    .option(\"url\", \"jdbc:mysql://localhost:3307/db_movie_recommender_sys?useSSL=false&serverTimezone=UTC\")\n",
    "    .option(\"dbtable\", \"tb_movie\")\n",
    "    .option(\"user\", \"root\")  # Replace with actual credentials\n",
    "    .option(\"password\", \"137162\")\n",
    "    .option(\"driver\", \"com.mysql.cj.jdbc.Driver\")\n",
    "    .mode(\"overwrite\")\n",
    "    .save())"
   ]
  },
  {
   "cell_type": "markdown",
   "metadata": {},
   "source": [
    "### Store Rating Data in MySQL"
   ]
  },
  {
   "cell_type": "code",
   "execution_count": 34,
   "metadata": {},
   "outputs": [],
   "source": [
    "ratings = spark.read \\\n",
    "    .format(\"csv\") \\\n",
    "    .option(\"sep\", \",\") \\\n",
    "    .option(\"header\", \"true\") \\\n",
    "    .option(\"encoding\", \"utf-8\") \\\n",
    "    .option(\"mode\", \"DROPMALFORMED\") \\\n",
    "    .load(\"../data/MovieLens 20M Dataset/rating.csv\")"
   ]
  },
  {
   "cell_type": "code",
   "execution_count": 35,
   "metadata": {},
   "outputs": [],
   "source": [
    "rename_dict = {\n",
    "    \"userId\": \"user_id\",\n",
    "    \"movieId\": \"movie_id\"\n",
    "}\n",
    "\n",
    "\n",
    "for old_name, new_name in rename_dict.items():\n",
    "    ratings = ratings.withColumnRenamed(old_name, new_name)"
   ]
  },
  {
   "cell_type": "code",
   "execution_count": 36,
   "metadata": {},
   "outputs": [
    {
     "name": "stdout",
     "output_type": "stream",
     "text": [
      "+-------+--------+------+-------------------+\n",
      "|user_id|movie_id|rating|          timestamp|\n",
      "+-------+--------+------+-------------------+\n",
      "|      1|       2|   3.5|2005-04-02 23:53:47|\n",
      "|      1|      29|   3.5|2005-04-02 23:31:16|\n",
      "|      1|      32|   3.5|2005-04-02 23:33:39|\n",
      "|      1|      47|   3.5|2005-04-02 23:32:07|\n",
      "|      1|      50|   3.5|2005-04-02 23:29:40|\n",
      "|      1|     112|   3.5|2004-09-10 03:09:00|\n",
      "|      1|     151|     4|2004-09-10 03:08:54|\n",
      "|      1|     223|     4|2005-04-02 23:46:13|\n",
      "|      1|     253|     4|2005-04-02 23:35:40|\n",
      "|      1|     260|     4|2005-04-02 23:33:46|\n",
      "|      1|     293|     4|2005-04-02 23:31:43|\n",
      "|      1|     296|     4|2005-04-02 23:32:47|\n",
      "|      1|     318|     4|2005-04-02 23:33:18|\n",
      "|      1|     337|   3.5|2004-09-10 03:08:29|\n",
      "|      1|     367|   3.5|2005-04-02 23:53:00|\n",
      "|      1|     541|     4|2005-04-02 23:30:03|\n",
      "|      1|     589|   3.5|2005-04-02 23:45:57|\n",
      "|      1|     593|   3.5|2005-04-02 23:31:01|\n",
      "|      1|     653|     3|2004-09-10 03:08:11|\n",
      "|      1|     919|   3.5|2004-09-10 03:07:01|\n",
      "+-------+--------+------+-------------------+\n",
      "only showing top 20 rows\n",
      "\n"
     ]
    }
   ],
   "source": [
    "ratings.show()"
   ]
  },
  {
   "cell_type": "code",
   "execution_count": 37,
   "metadata": {},
   "outputs": [],
   "source": [
    "ratings = ratings.sample(fraction=0.5, seed=42) # remove half of the data in rating.csv\n",
    "ratings = ratings.sample(fraction=0.5, seed=42) # remove half of the data in rating.csv\n",
    "ratings = ratings.sample(fraction=0.5, seed=42) # remove half of the data in rating.csv"
   ]
  },
  {
   "cell_type": "code",
   "execution_count": 38,
   "metadata": {},
   "outputs": [
    {
     "name": "stdout",
     "output_type": "stream",
     "text": [
      "2501155\n"
     ]
    }
   ],
   "source": [
    "print(ratings.count())"
   ]
  },
  {
   "cell_type": "code",
   "execution_count": 39,
   "metadata": {},
   "outputs": [],
   "source": [
    "# Write to MySQL\n",
    "(ratings.write\n",
    "    .format(\"jdbc\")\n",
    "    .option(\"url\", \"jdbc:mysql://localhost:3307/db_movie_recommender_sys?useSSL=false&serverTimezone=UTC\")\n",
    "    .option(\"dbtable\", \"tb_rating\")\n",
    "    .option(\"user\", \"root\")  # Replace with actual credentials\n",
    "    .option(\"password\", \"137162\")\n",
    "    .option(\"driver\", \"com.mysql.cj.jdbc.Driver\")\n",
    "    .mode(\"overwrite\")\n",
    "    .save())"
   ]
  }
 ],
 "metadata": {
  "kernelspec": {
   "display_name": "Python 3",
   "language": "python",
   "name": "python3"
  },
  "language_info": {
   "codemirror_mode": {
    "name": "ipython",
    "version": 3
   },
   "file_extension": ".py",
   "mimetype": "text/x-python",
   "name": "python",
   "nbconvert_exporter": "python",
   "pygments_lexer": "ipython3",
   "version": "3.11.9"
  }
 },
 "nbformat": 4,
 "nbformat_minor": 2
}
