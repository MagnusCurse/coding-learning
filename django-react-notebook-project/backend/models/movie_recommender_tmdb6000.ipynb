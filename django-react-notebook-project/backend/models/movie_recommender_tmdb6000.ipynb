{
 "cells": [
  {
   "cell_type": "code",
   "execution_count": 2,
   "metadata": {},
   "outputs": [],
   "source": [
    "from pyspark.sql import SparkSession\n",
    "from pyspark.sql.functions import col, from_json, regexp_replace\n",
    "from pyspark.sql.types import ArrayType, StructType, StructField, IntegerType, StringType\n",
    "\n",
    "# stop any existing Spark session, if Spark is already running, creating a new session might fail ***\n",
    "try:\n",
    "    spark.stop()\n",
    "except Exception:\n",
    "    pass\n",
    "\n",
    "# create session with adjusted memory settings based on your cluster\n",
    "# .config(\"spark.local.dir\", r\"E:\\Apache Spark\\spark-temp\"): change the spark local dir, as the c disk memory is not enough, may cause Py4JJavaError exception ***\n",
    "spark = SparkSession.builder.appName(\"MovieRecommender\") \\\n",
    "    .config(\"spark.executor.memory\", \"16g\") \\\n",
    "    .config(\"spark.driver.memory\", \"8g\") \\\n",
    "    .config(\"spark.local.dir\", r\"E:\\Apache Spark\\spark-temp\") \\\n",
    "    .getOrCreate()"
   ]
  },
  {
   "cell_type": "code",
   "execution_count": 3,
   "metadata": {},
   "outputs": [
    {
     "data": {
      "text/html": [
       "\n",
       "            <div>\n",
       "                <p><b>SparkSession - in-memory</b></p>\n",
       "                \n",
       "        <div>\n",
       "            <p><b>SparkContext</b></p>\n",
       "\n",
       "            <p><a href=\"http://DESKTOP-UGERBR3:4040\">Spark UI</a></p>\n",
       "\n",
       "            <dl>\n",
       "              <dt>Version</dt>\n",
       "                <dd><code>v3.5.3</code></dd>\n",
       "              <dt>Master</dt>\n",
       "                <dd><code>local[*]</code></dd>\n",
       "              <dt>AppName</dt>\n",
       "                <dd><code>MovieRecommender</code></dd>\n",
       "            </dl>\n",
       "        </div>\n",
       "        \n",
       "            </div>\n",
       "        "
      ],
      "text/plain": [
       "<pyspark.sql.session.SparkSession at 0x12086387850>"
      ]
     },
     "execution_count": 3,
     "metadata": {},
     "output_type": "execute_result"
    }
   ],
   "source": [
    "spark"
   ]
  },
  {
   "cell_type": "code",
   "execution_count": 4,
   "metadata": {},
   "outputs": [],
   "source": [
    "movies = spark.read \\\n",
    "    .format(\"csv\") \\\n",
    "    .option(\"sep\", \",\") \\\n",
    "    .option(\"header\", \"true\") \\\n",
    "    .option(\"encoding\", \"utf-8\") \\\n",
    "    .option(\"mode\", \"DROPMALFORMED\") \\\n",
    "    .load(\"data/TMDB 6000 Movie Dataset with Ratings/tmdb_6000_movie_dataset.csv\")"
   ]
  },
  {
   "cell_type": "code",
   "execution_count": 5,
   "metadata": {},
   "outputs": [
    {
     "name": "stdout",
     "output_type": "stream",
     "text": [
      "+--------------+\n",
      "|        genres|\n",
      "+--------------+\n",
      "| \"[{\"\"id\"\": 28|\n",
      "| \"[{\"\"id\"\": 12|\n",
      "| \"[{\"\"id\"\": 28|\n",
      "| \"[{\"\"id\"\": 28|\n",
      "| \"[{\"\"id\"\": 28|\n",
      "| \"[{\"\"id\"\": 14|\n",
      "| \"[{\"\"id\"\": 16|\n",
      "| \"[{\"\"id\"\": 28|\n",
      "| \"[{\"\"id\"\": 12|\n",
      "| \"[{\"\"id\"\": 28|\n",
      "| \"[{\"\"id\"\": 12|\n",
      "| \"[{\"\"id\"\": 12|\n",
      "| \"[{\"\"id\"\": 12|\n",
      "| \"[{\"\"id\"\": 28|\n",
      "| \"[{\"\"id\"\": 28|\n",
      "| \"[{\"\"id\"\": 12|\n",
      "|\"[{\"\"id\"\": 878|\n",
      "| \"[{\"\"id\"\": 12|\n",
      "| \"[{\"\"id\"\": 28|\n",
      "| \"[{\"\"id\"\": 28|\n",
      "+--------------+\n",
      "only showing top 20 rows\n",
      "\n"
     ]
    }
   ],
   "source": [
    "movies.select(\"genres\").show()"
   ]
  },
  {
   "cell_type": "code",
   "execution_count": 6,
   "metadata": {},
   "outputs": [
    {
     "name": "stdout",
     "output_type": "stream",
     "text": [
      "+----+---------+--------------------+--------------------+------+--------------------+-----------------+--------------------+--------------------+----------+--------------------+--------------------+------------+----------+-------+--------------------+--------+--------------------+--------------------+------------+----------+\n",
      "| _c0|   budget|              genres|            homepage|tmdbId|            keywords|original_language|      original_title|            overview|popularity|production_companies|production_countries|release_date|   revenue|runtime|    spoken_languages|  status|             tagline|               title|vote_average|vote_count|\n",
      "+----+---------+--------------------+--------------------+------+--------------------+-----------------+--------------------+--------------------+----------+--------------------+--------------------+------------+----------+-------+--------------------+--------+--------------------+--------------------+------------+----------+\n",
      "|4068|        0|                  []|                NULL|371085|                  []|               en|           Sharkskin|The Post War II s...|  0.027801|                  []|                  []|  2015-01-01|         0|    0.0|                  []|Released|                NULL|           Sharkskin|         0.0|         0|\n",
      "|4105|  2000000|                  []|                NULL| 48382|                  []|               en|The Book of Mormo...|The story of Lehi...|  0.031947|                  []|                  []|  2003-09-12|   1672730|  120.0|                  []|Released|2600 years ago, o...|The Book of Mormo...|         5.0|         2|\n",
      "|4118|        0|                  []|                NULL|325140|                  []|               en|Hum To Mohabbat K...|Raju, a waiter, i...|  0.001186|                  []|                  []|  2000-05-26|         0|    0.0|                  []|Released|                NULL|Hum To Mohabbat K...|         0.0|         0|\n",
      "|4385|        0|                  []|                NULL|206412|                  []|               en|Lisa Picard Is Fa...|A documentarian d...|  0.690089|                  []|                  []|  2000-05-14|         0|   90.0|                  []|Released|                NULL|Lisa Picard Is Fa...|         4.0|         1|\n",
      "|4400|        0|                  []|                NULL|219716|                  []|               en|            Sparkler|Melba is a Califo...|  0.547654|                  []|                  []|  1999-03-19|         0|   96.0|                  []|Released|                NULL|            Sparkler|         0.0|         1|\n",
      "|4458|        0|                  []|                NULL|279759|                  []|               en| Harrison Montgomery|Film from Daniel ...|  0.006943|                  []|                  []|  2008-01-01|         0|    0.0|                  []|Released|                NULL| Harrison Montgomery|         0.0|         0|\n",
      "|4504|        0|                  []|                NULL|331493|                  []|               en|Light from the Da...|Light in the Dark...|  0.012942|                  []|                  []|  2014-01-01|         0|    0.0|                  []|Released|                NULL|Light from the Da...|         0.0|         0|\n",
      "|4566|        0|                  []|                NULL|325579|                  []|               en|        Diamond Ruff|Action - Orphan, ...|  0.165257|                  []|                  []|  2015-01-01|         0|    0.0|                  []|Released|                NULL|        Diamond Ruff|         2.4|         4|\n",
      "|4571|        0|                  []|                NULL|328307|                  []|               en|Rise of the Entre...|The world is chan...|  0.052942|                  []|                  []|  2014-11-20|         0|    0.0|                  []|Released|                NULL|Rise of the Entre...|         8.0|         1|\n",
      "|4581|        0|                  []|                NULL|281189|[{'id': 187056, '...|               en|Gory Gory Hallelujah|Four actors compe...|  0.033883|                  []|                  []|  2003-11-05|         0|    0.0|                  []|Released|                NULL|Gory Gory Hallelujah|         1.0|         1|\n",
      "|4633|        0|                  []|                NULL|300327|                  []|               en|         Death Calls|An action-packed ...|  0.005883|                  []|                  []|  2010-09-01|         0|    0.0|                  []|Released|                NULL|         Death Calls|         0.0|         0|\n",
      "|4657|        0|                  []|                NULL|320435|                  []|               en|           UnDivided|UnDivided documen...|  0.010607|                  []|                  []|  2013-02-01|         0|    0.0|                  []|Released|                NULL|           UnDivided|         0.0|         0|\n",
      "|4674|        0|                  []|                NULL|194588|                  []|               en|Short Cut to Nirv...|Every 12 years ov...|  0.004998|                  []|                  []|  2004-05-11|         0|   85.0|                  []|Released|                NULL|Short Cut to Nirv...|         0.0|         0|\n",
      "|4716|        0|                  []|                NULL| 38786|                  []|               en|The Blood of My B...|THE BLOOD OF MY B...|  0.005256|                  []|                  []|  2005-11-25|         0|   90.0|                  []|Released|                NULL|The Blood of My B...|         0.0|         0|\n",
      "|4803|175000000|[{'id': 10751, 'n...|https://www.pixar...|354912|[{'id': 534, 'nam...|               en|                Coco|Despite his famil...|   316.439|[{'id': 3, 'logo_...|[{'iso_3166_1': '...|  2017-10-27| 800526015|  105.0|[{'english_name':...|Released|The celebration o...|                Coco|       8.222|     17867|\n",
      "|4804|300000000|[{'id': 12, 'name...|https://www.marve...|299536|[{'id': 2343, 'na...|               en|Avengers: Infinit...|As the Avengers a...|   156.795|[{'id': 420, 'log...|[{'iso_3166_1': '...|  2018-04-25|2052415039|  149.0|[{'english_name':...|Released|An entire univers...|Avengers: Infinit...|       8.254|     27822|\n",
      "|4805| 22000000|[{'id': 27, 'name...|http://www.thenun...|439079|[{'id': 588, 'nam...|               en|             The Nun|A priest with a h...|   193.433|[{'id': 12, 'logo...|[{'iso_3166_1': '...|  2018-09-05| 365582797|   96.0|[{'english_name':...|Released|Pray For Forgiveness|             The Nun|        5.89|      6182|\n",
      "|4806| 10000000|[{'id': 27, 'name...|                NULL|298250|[{'id': 4426, 'na...|               en|              Jigsaw|Dead bodies begin...|   136.702|[{'id': 2061, 'lo...|[{'iso_3166_1': '...|  2017-10-25| 102952888|   92.0|[{'english_name':...|Released|  A new game begins.|              Jigsaw|       6.215|      3351|\n",
      "|4807|150000000|[{'id': 28, 'name...|https://www.warne...|345940|[{'id': 270, 'nam...|               en|             The Meg|A deep sea submer...|   105.444|[{'id': 56242, 'l...|[{'iso_3166_1': '...|  2018-08-09| 530517320|  113.0|[{'english_name':...|Released|  Pleased to eat you|             The Meg|         6.3|      7068|\n",
      "|4808| 62000000|[{'id': 28, 'name...|https://www.sonyp...|345887|[{'id': 570, 'nam...|               en|     The Equalizer 2|Robert McCall, wh...|   162.026|[{'id': 41096, 'l...|[{'iso_3166_1': '...|  2018-07-19| 190400157|  121.0|[{'english_name':...|Released|  There is no equal.|     The Equalizer 2|       6.713|      4733|\n",
      "+----+---------+--------------------+--------------------+------+--------------------+-----------------+--------------------+--------------------+----------+--------------------+--------------------+------------+----------+-------+--------------------+--------+--------------------+--------------------+------------+----------+\n",
      "only showing top 20 rows\n",
      "\n"
     ]
    }
   ],
   "source": [
    "movies.show()"
   ]
  },
  {
   "cell_type": "code",
   "execution_count": 7,
   "metadata": {},
   "outputs": [],
   "source": [
    "movies = movies.select('_c0', 'genres', 'title', 'vote_average', 'vote_count', 'original_language', 'popularity', 'release_date', 'tagline')"
   ]
  },
  {
   "cell_type": "code",
   "execution_count": 8,
   "metadata": {},
   "outputs": [
    {
     "name": "stdout",
     "output_type": "stream",
     "text": [
      "+---+--------------+--------------------+--------------------+--------------------+--------------------+--------------------+--------------------+--------------------+\n",
      "|_c0|        genres|               title|        vote_average|          vote_count|   original_language|          popularity|        release_date|             tagline|\n",
      "+---+--------------+--------------------+--------------------+--------------------+--------------------+--------------------+--------------------+--------------------+\n",
      "|  0| \"[{\"\"id\"\": 28|        \"\"id\"\": 289}| {\"\"name\"\": \"\"Twe...|        \"\"id\"\": 306}|         {\"\"id\"\": 14| \"\"name\"\": \"\"Scie...|[{'id': 1463, 'na...|\"[{\"\"name\"\": \"\"In...|\n",
      "|  1| \"[{\"\"id\"\": 12|     'name': 'ship'}|         {'id': 5740| 'name': 'alliance'}|         {\"\"id\"\": 28|                 285|  'name': 'traitor'}|         {'id': 3799|\n",
      "|  2| \"[{\"\"id\"\": 28|      \"\"id\"\": 10761}|  {\"\"name\"\": \"\"B24\"\"|    \"\"id\"\": 69434}]\"|         {\"\"id\"\": 80|              206647|             Spectre| {\"\"name\"\": \"\"Dan...|\n",
      "|  3| \"[{\"\"id\"\": 28|        \"\"id\"\": 923}| {\"\"name\"\": \"\"War...|       \"\"id\"\": 6194}|         {\"\"id\"\": 18| \"\"name\"\": \"\"Thri...|[{'id': 849, 'nam...|\"[{\"\"name\"\": \"\"Le...|\n",
      "|  4| \"[{\"\"id\"\": 28| \"\"name\"\": \"\"Unit...|          2012-03-07|           284139100|        {\"\"id\"\": 878|               49529|         John Carter|\"[{\"\"iso_3166_1\"\"...|\n",
      "|  5| \"[{\"\"id\"\": 14| 'name': 'death o...|         {'id': 5776| 'name': 'egomania'}|         {\"\"id\"\": 12|                 559| 'name': 'forgive...|         {'id': 4959|\n",
      "|  6| \"[{\"\"id\"\": 16| \"\"name\"\": \"\"Unit...|          2010-11-24|           591794936|http://disney.go....|                  en|           48.681969|\"[{\"\"iso_3166_1\"\"...|\n",
      "|  7| \"[{\"\"id\"\": 28|      \"\"id\"\": 15357}| {\"\"name\"\": \"\"Rev...|    \"\"id\"\": 76043}]\"|        {\"\"id\"\": 878|               99861|Avengers: Age of ...| {\"\"name\"\": \"\"Pri...|\n",
      "|  8| \"[{\"\"id\"\": 12|     \"\"id\"\": 7364}]\"|\"[{\"\"iso_3166_1\"\"...| \"\"name\"\": \"\"Unit...|      {\"\"id\"\": 10751|                 767|Harry Potter and ...| {\"\"name\"\": \"\"Hey...|\n",
      "|  9| \"[{\"\"id\"\": 28|        \"\"id\"\": 507}| {\"\"name\"\": \"\"War...|       \"\"id\"\": 6194}|         {\"\"id\"\": 14|              209112|Batman v Superman...| {\"\"name\"\": \"\"Atl...|\n",
      "| 10| \"[{\"\"id\"\": 12|        \"\"id\"\": 429}| {\"\"name\"\": \"\"Leg...|        \"\"id\"\": 923}|         {\"\"id\"\": 28| \"\"name\"\": \"\"Scie...|[{'id': 83, 'name...|\"[{\"\"name\"\": \"\"DC...|\n",
      "| 11| \"[{\"\"id\"\": 12|     \"\"id\"\": 7576}]\"|\"[{\"\"iso_3166_1\"\"...| \"\"name\"\": \"\"Unit...|         {\"\"id\"\": 53| \"\"name\"\": \"\"Crim...|[{'id': 627, 'nam...|\"[{\"\"name\"\": \"\"Eo...|\n",
      "| 12| \"[{\"\"id\"\": 12|        \"\"id\"\": 130}| {\"\"name\"\": \"\"Sec...|    \"\"id\"\": 19936}]\"|         {\"\"id\"\": 28|                  58|Pirates of the Ca...| {\"\"name\"\": \"\"Jer...|\n",
      "| 13| \"[{\"\"id\"\": 28|        \"\"id\"\": 130}| {\"\"name\"\": \"\"Inf...|       \"\"id\"\": 2691}|         {\"\"id\"\": 37|               57201|     The Lone Ranger| {\"\"name\"\": \"\"Jer...|\n",
      "| 14| \"[{\"\"id\"\": 28|        \"\"id\"\": 923}| {\"\"name\"\": \"\"War...|       \"\"id\"\": 6194}|         {\"\"id\"\": 14| \"\"name\"\": \"\"Scie...|[{'id': 83, 'name...|\"[{\"\"name\"\": \"\"Le...|\n",
      "| 15| \"[{\"\"id\"\": 12|      \"\"id\"\": 10221}| {\"\"name\"\": \"\"Sti...|      \"\"id\"\": 11345}|         {\"\"id\"\": 14|                2454|The Chronicles of...| {\"\"name\"\": \"\"Wal...|\n",
      "| 16|\"[{\"\"id\"\": 878|      \"\"id\"\": 420}]\"|\"[{\"\"iso_3166_1\"\"...| \"\"name\"\": \"\"Unit...|         {\"\"id\"\": 12|               24428|        The Avengers| {\"\"name\"\": \"\"Mar...|\n",
      "| 17| \"[{\"\"id\"\": 12|        \"\"id\"\": 130}| {\"\"name\"\": \"\"Mov...|    \"\"id\"\": 20478}]\"|         {\"\"id\"\": 14|                1865|Pirates of the Ca...| {\"\"name\"\": \"\"Jer...|\n",
      "| 18| \"[{\"\"id\"\": 28|       \"\"id\"\": 5627}| {\"\"name\"\": \"\"Ima...|       \"\"id\"\": 6736}|        {\"\"id\"\": 878|               41154|      Men in Black 3| {\"\"name\"\": \"\"Med...|\n",
      "| 19| \"[{\"\"id\"\": 28|         \"\"id\"\": 12}| {\"\"name\"\": \"\"War...|        \"\"id\"\": 174}|         {\"\"id\"\": 14|              122917|The Hobbit: The B...| {\"\"name\"\": \"\"New...|\n",
      "+---+--------------+--------------------+--------------------+--------------------+--------------------+--------------------+--------------------+--------------------+\n",
      "only showing top 20 rows\n",
      "\n"
     ]
    }
   ],
   "source": [
    "movies.show()"
   ]
  },
  {
   "cell_type": "code",
   "execution_count": 9,
   "metadata": {},
   "outputs": [
    {
     "name": "stdout",
     "output_type": "stream",
     "text": [
      "5801 9\n"
     ]
    }
   ],
   "source": [
    "movies_num_rows = movies.count()\n",
    "movies_num_cols = len(movies.columns)\n",
    "print(movies_num_rows, movies_num_cols)"
   ]
  }
 ],
 "metadata": {
  "kernelspec": {
   "display_name": "Python 3",
   "language": "python",
   "name": "python3"
  },
  "language_info": {
   "codemirror_mode": {
    "name": "ipython",
    "version": 3
   },
   "file_extension": ".py",
   "mimetype": "text/x-python",
   "name": "python",
   "nbconvert_exporter": "python",
   "pygments_lexer": "ipython3",
   "version": "3.11.9"
  }
 },
 "nbformat": 4,
 "nbformat_minor": 2
}
