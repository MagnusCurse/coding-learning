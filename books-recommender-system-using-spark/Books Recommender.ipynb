{
 "cells": [
  {
   "cell_type": "code",
   "execution_count": 2,
   "metadata": {},
   "outputs": [],
   "source": [
    "from pyspark.sql import SparkSession \n",
    "\n",
    "#create session\n",
    "spark = SparkSession.builder.appName(\"BookRecommendCSV\").getOrCreate()"
   ]
  },
  {
   "cell_type": "code",
   "execution_count": 3,
   "metadata": {},
   "outputs": [
    {
     "data": {
      "text/html": [
       "\n",
       "            <div>\n",
       "                <p><b>SparkSession - in-memory</b></p>\n",
       "                \n",
       "        <div>\n",
       "            <p><b>SparkContext</b></p>\n",
       "\n",
       "            <p><a href=\"http://192.168.0.105:4040\">Spark UI</a></p>\n",
       "\n",
       "            <dl>\n",
       "              <dt>Version</dt>\n",
       "                <dd><code>v3.5.3</code></dd>\n",
       "              <dt>Master</dt>\n",
       "                <dd><code>local[*]</code></dd>\n",
       "              <dt>AppName</dt>\n",
       "                <dd><code>BookRecommendCSV</code></dd>\n",
       "            </dl>\n",
       "        </div>\n",
       "        \n",
       "            </div>\n",
       "        "
      ],
      "text/plain": [
       "<pyspark.sql.session.SparkSession at 0x2392e19f0b0>"
      ]
     },
     "execution_count": 3,
     "metadata": {},
     "output_type": "execute_result"
    }
   ],
   "source": [
    "spark\n"
   ]
  },
  {
   "cell_type": "code",
   "execution_count": 4,
   "metadata": {},
   "outputs": [],
   "source": [
    "# Read the CSV file with specified options\n",
    "books = spark.read \\\n",
    "    .format(\"csv\") \\\n",
    "    .option(\"sep\", \";\") \\\n",
    "    .option(\"header\", \"true\") \\\n",
    "    .option(\"encoding\", \"latin1\") \\\n",
    "    .option(\"mode\", \"DROPMALFORMED\") \\\n",
    "    .load(\"data/BX-Books.csv\")"
   ]
  },
  {
   "cell_type": "code",
   "execution_count": 5,
   "metadata": {},
   "outputs": [
    {
     "name": "stdout",
     "output_type": "stream",
     "text": [
      "+----------+--------------------+--------------------+-------------------+--------------------+--------------------+--------------------+--------------------+\n",
      "|      ISBN|          Book-Title|         Book-Author|Year-Of-Publication|           Publisher|         Image-URL-S|         Image-URL-M|         Image-URL-L|\n",
      "+----------+--------------------+--------------------+-------------------+--------------------+--------------------+--------------------+--------------------+\n",
      "|0195153448| Classical Mythology|  Mark P. O. Morford|               2002|Oxford University...|http://images.ama...|http://images.ama...|http://images.ama...|\n",
      "|0002005018|        Clara Callan|Richard Bruce Wright|               2001|HarperFlamingo Ca...|http://images.ama...|http://images.ama...|http://images.ama...|\n",
      "|0060973129|Decision in Normandy|        Carlo D'Este|               1991|     HarperPerennial|http://images.ama...|http://images.ama...|http://images.ama...|\n",
      "|0374157065|Flu: The Story of...|    Gina Bari Kolata|               1999|Farrar Straus Giroux|http://images.ama...|http://images.ama...|http://images.ama...|\n",
      "|0393045218|The Mummies of Ur...|     E. J. W. Barber|               1999|W. W. Norton &amp...|http://images.ama...|http://images.ama...|http://images.ama...|\n",
      "|0399135782|The Kitchen God's...|             Amy Tan|               1991|    Putnam Pub Group|http://images.ama...|http://images.ama...|http://images.ama...|\n",
      "|0425176428|What If?: The Wor...|       Robert Cowley|               2000|Berkley Publishin...|http://images.ama...|http://images.ama...|http://images.ama...|\n",
      "|0671870432|     PLEADING GUILTY|         Scott Turow|               1993|          Audioworks|http://images.ama...|http://images.ama...|http://images.ama...|\n",
      "|0679425608|Under the Black F...|     David Cordingly|               1996|        Random House|http://images.ama...|http://images.ama...|http://images.ama...|\n",
      "|074322678X|Where You'll Find...|         Ann Beattie|               2002|            Scribner|http://images.ama...|http://images.ama...|http://images.ama...|\n",
      "|0771074670|Nights Below Stat...|David Adams Richards|               1988|     Emblem Editions|http://images.ama...|http://images.ama...|http://images.ama...|\n",
      "|080652121X|Hitler's Secret B...|          Adam Lebor|               2000|       Citadel Press|http://images.ama...|http://images.ama...|http://images.ama...|\n",
      "|0887841740|  The Middle Stories|         Sheila Heti|               2004|House of Anansi P...|http://images.ama...|http://images.ama...|http://images.ama...|\n",
      "|1552041778|            Jane Doe|        R. J. Kaiser|               1999|          Mira Books|http://images.ama...|http://images.ama...|http://images.ama...|\n",
      "|1558746218|A Second Chicken ...|       Jack Canfield|               1998|Health Communicat...|http://images.ama...|http://images.ama...|http://images.ama...|\n",
      "|1567407781|The Witchfinder (...|   Loren D. Estleman|               1998|Brilliance Audio ...|http://images.ama...|http://images.ama...|http://images.ama...|\n",
      "|1575663937|More Cunning Than...|  Robert Hendrickson|               1999|Kensington Publis...|http://images.ama...|http://images.ama...|http://images.ama...|\n",
      "|1881320189|Goodbye to the Bu...|        Julia Oliver|               1994|      River City Pub|http://images.ama...|http://images.ama...|http://images.ama...|\n",
      "|0440234743|       The Testament|        John Grisham|               1999|                Dell|http://images.ama...|http://images.ama...|http://images.ama...|\n",
      "|0452264464|Beloved (Plume Co...|       Toni Morrison|               1994|               Plume|http://images.ama...|http://images.ama...|http://images.ama...|\n",
      "+----------+--------------------+--------------------+-------------------+--------------------+--------------------+--------------------+--------------------+\n",
      "only showing top 20 rows\n",
      "\n"
     ]
    }
   ],
   "source": [
    "books.show()"
   ]
  },
  {
   "cell_type": "code",
   "execution_count": 8,
   "metadata": {},
   "outputs": [
    {
     "data": {
      "text/plain": [
       "['ISBN',\n",
       " 'Book-Title',\n",
       " 'Book-Author',\n",
       " 'Year-Of-Publication',\n",
       " 'Publisher',\n",
       " 'Image-URL-S',\n",
       " 'Image-URL-M',\n",
       " 'Image-URL-L']"
      ]
     },
     "execution_count": 8,
     "metadata": {},
     "output_type": "execute_result"
    }
   ],
   "source": [
    "books.columns"
   ]
  },
  {
   "cell_type": "code",
   "execution_count": 11,
   "metadata": {},
   "outputs": [
    {
     "name": "stdout",
     "output_type": "stream",
     "text": [
      "+----------+--------------------+--------------------+-------------------+--------------------+--------------------+--------------------+--------------------+\n",
      "|      ISBN|          Book-Title|         Book-Author|Year-Of-Publication|           Publisher|         Image-URL-S|         Image-URL-M|         Image-URL-L|\n",
      "+----------+--------------------+--------------------+-------------------+--------------------+--------------------+--------------------+--------------------+\n",
      "|0195153448| Classical Mythology|  Mark P. O. Morford|               2002|Oxford University...|http://images.ama...|http://images.ama...|http://images.ama...|\n",
      "|0002005018|        Clara Callan|Richard Bruce Wright|               2001|HarperFlamingo Ca...|http://images.ama...|http://images.ama...|http://images.ama...|\n",
      "|0060973129|Decision in Normandy|        Carlo D'Este|               1991|     HarperPerennial|http://images.ama...|http://images.ama...|http://images.ama...|\n",
      "|0374157065|Flu: The Story of...|    Gina Bari Kolata|               1999|Farrar Straus Giroux|http://images.ama...|http://images.ama...|http://images.ama...|\n",
      "|0393045218|The Mummies of Ur...|     E. J. W. Barber|               1999|W. W. Norton &amp...|http://images.ama...|http://images.ama...|http://images.ama...|\n",
      "|0399135782|The Kitchen God's...|             Amy Tan|               1991|    Putnam Pub Group|http://images.ama...|http://images.ama...|http://images.ama...|\n",
      "|0425176428|What If?: The Wor...|       Robert Cowley|               2000|Berkley Publishin...|http://images.ama...|http://images.ama...|http://images.ama...|\n",
      "|0671870432|     PLEADING GUILTY|         Scott Turow|               1993|          Audioworks|http://images.ama...|http://images.ama...|http://images.ama...|\n",
      "|0679425608|Under the Black F...|     David Cordingly|               1996|        Random House|http://images.ama...|http://images.ama...|http://images.ama...|\n",
      "|074322678X|Where You'll Find...|         Ann Beattie|               2002|            Scribner|http://images.ama...|http://images.ama...|http://images.ama...|\n",
      "|0771074670|Nights Below Stat...|David Adams Richards|               1988|     Emblem Editions|http://images.ama...|http://images.ama...|http://images.ama...|\n",
      "|080652121X|Hitler's Secret B...|          Adam Lebor|               2000|       Citadel Press|http://images.ama...|http://images.ama...|http://images.ama...|\n",
      "|0887841740|  The Middle Stories|         Sheila Heti|               2004|House of Anansi P...|http://images.ama...|http://images.ama...|http://images.ama...|\n",
      "|1552041778|            Jane Doe|        R. J. Kaiser|               1999|          Mira Books|http://images.ama...|http://images.ama...|http://images.ama...|\n",
      "|1558746218|A Second Chicken ...|       Jack Canfield|               1998|Health Communicat...|http://images.ama...|http://images.ama...|http://images.ama...|\n",
      "|1567407781|The Witchfinder (...|   Loren D. Estleman|               1998|Brilliance Audio ...|http://images.ama...|http://images.ama...|http://images.ama...|\n",
      "|1575663937|More Cunning Than...|  Robert Hendrickson|               1999|Kensington Publis...|http://images.ama...|http://images.ama...|http://images.ama...|\n",
      "|1881320189|Goodbye to the Bu...|        Julia Oliver|               1994|      River City Pub|http://images.ama...|http://images.ama...|http://images.ama...|\n",
      "|0440234743|       The Testament|        John Grisham|               1999|                Dell|http://images.ama...|http://images.ama...|http://images.ama...|\n",
      "|0452264464|Beloved (Plume Co...|       Toni Morrison|               1994|               Plume|http://images.ama...|http://images.ama...|http://images.ama...|\n",
      "+----------+--------------------+--------------------+-------------------+--------------------+--------------------+--------------------+--------------------+\n",
      "only showing top 20 rows\n",
      "\n"
     ]
    }
   ],
   "source": [
    "books.show()"
   ]
  },
  {
   "cell_type": "code",
   "execution_count": 13,
   "metadata": {},
   "outputs": [],
   "source": [
    "rename_dict = {\n",
    "    \"Book-Title\": \"title\",\n",
    "    \"Book-Author\": \"author\",\n",
    "    \"Year-Of-Publication\": \"year\",\n",
    "    \"Publisher\": \"publisher\",\n",
    "    \"Image-URL-L\": \"image_url\"\n",
    "}\n",
    "\n",
    "for old_name, new_name in rename_dict.items():\n",
    "    books = books.withColumnRenamed(old_name, new_name)"
   ]
  },
  {
   "cell_type": "code",
   "execution_count": 16,
   "metadata": {},
   "outputs": [],
   "source": [
    "books = books.select('ISBN', 'title', 'author', 'year', 'publisher', 'image_url')"
   ]
  },
  {
   "cell_type": "code",
   "execution_count": 17,
   "metadata": {},
   "outputs": [
    {
     "name": "stdout",
     "output_type": "stream",
     "text": [
      "+----------+--------------------+--------------------+----+--------------------+--------------------+\n",
      "|      ISBN|               title|              author|year|           publisher|           image_url|\n",
      "+----------+--------------------+--------------------+----+--------------------+--------------------+\n",
      "|0195153448| Classical Mythology|  Mark P. O. Morford|2002|Oxford University...|http://images.ama...|\n",
      "|0002005018|        Clara Callan|Richard Bruce Wright|2001|HarperFlamingo Ca...|http://images.ama...|\n",
      "|0060973129|Decision in Normandy|        Carlo D'Este|1991|     HarperPerennial|http://images.ama...|\n",
      "|0374157065|Flu: The Story of...|    Gina Bari Kolata|1999|Farrar Straus Giroux|http://images.ama...|\n",
      "|0393045218|The Mummies of Ur...|     E. J. W. Barber|1999|W. W. Norton &amp...|http://images.ama...|\n",
      "|0399135782|The Kitchen God's...|             Amy Tan|1991|    Putnam Pub Group|http://images.ama...|\n",
      "|0425176428|What If?: The Wor...|       Robert Cowley|2000|Berkley Publishin...|http://images.ama...|\n",
      "|0671870432|     PLEADING GUILTY|         Scott Turow|1993|          Audioworks|http://images.ama...|\n",
      "|0679425608|Under the Black F...|     David Cordingly|1996|        Random House|http://images.ama...|\n",
      "|074322678X|Where You'll Find...|         Ann Beattie|2002|            Scribner|http://images.ama...|\n",
      "|0771074670|Nights Below Stat...|David Adams Richards|1988|     Emblem Editions|http://images.ama...|\n",
      "|080652121X|Hitler's Secret B...|          Adam Lebor|2000|       Citadel Press|http://images.ama...|\n",
      "|0887841740|  The Middle Stories|         Sheila Heti|2004|House of Anansi P...|http://images.ama...|\n",
      "|1552041778|            Jane Doe|        R. J. Kaiser|1999|          Mira Books|http://images.ama...|\n",
      "|1558746218|A Second Chicken ...|       Jack Canfield|1998|Health Communicat...|http://images.ama...|\n",
      "|1567407781|The Witchfinder (...|   Loren D. Estleman|1998|Brilliance Audio ...|http://images.ama...|\n",
      "|1575663937|More Cunning Than...|  Robert Hendrickson|1999|Kensington Publis...|http://images.ama...|\n",
      "|1881320189|Goodbye to the Bu...|        Julia Oliver|1994|      River City Pub|http://images.ama...|\n",
      "|0440234743|       The Testament|        John Grisham|1999|                Dell|http://images.ama...|\n",
      "|0452264464|Beloved (Plume Co...|       Toni Morrison|1994|               Plume|http://images.ama...|\n",
      "+----------+--------------------+--------------------+----+--------------------+--------------------+\n",
      "only showing top 20 rows\n",
      "\n"
     ]
    }
   ],
   "source": [
    "books.show()"
   ]
  }
 ],
 "metadata": {
  "kernelspec": {
   "display_name": "Python 3",
   "language": "python",
   "name": "python3"
  },
  "language_info": {
   "codemirror_mode": {
    "name": "ipython",
    "version": 3
   },
   "file_extension": ".py",
   "mimetype": "text/x-python",
   "name": "python",
   "nbconvert_exporter": "python",
   "pygments_lexer": "ipython3",
   "version": "3.12.2"
  }
 },
 "nbformat": 4,
 "nbformat_minor": 2
}
